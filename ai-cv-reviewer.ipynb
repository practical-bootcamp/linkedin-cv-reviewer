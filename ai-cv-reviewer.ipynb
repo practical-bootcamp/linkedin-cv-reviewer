{
 "cells": [
  {
   "cell_type": "code",
   "execution_count": 1,
   "metadata": {},
   "outputs": [
    {
     "data": {
      "text/plain": [
       "True"
      ]
     },
     "execution_count": 1,
     "metadata": {},
     "output_type": "execute_result"
    }
   ],
   "source": [
    "import os\n",
    "\n",
    "from dotenv import load_dotenv\n",
    "load_dotenv()"
   ]
  },
  {
   "cell_type": "code",
   "execution_count": 2,
   "metadata": {},
   "outputs": [],
   "source": [
    "from langchain_openai import AzureChatOpenAI\n",
    "llm = AzureChatOpenAI(\n",
    "    openai_api_version=os.getenv(\"AZURE_OPENAI_API_VERSION\"),\n",
    "    azure_deployment=os.getenv(\"AZURE_OPENAI_GPT4O_DEPLOYMENT_NAME\"),\n",
    "    temperature=0,\n",
    ")"
   ]
  },
  {
   "cell_type": "code",
   "execution_count": 4,
   "metadata": {},
   "outputs": [],
   "source": [
    "import base64\n",
    "\n",
    "system_prompt = \"\"\"\n",
    "As a committed career mentor, your task is to thoroughly scrutinize student resumes and offer feedback in Markdown format. Here are the specific guidelines:\n",
    "\n",
    "1. The resume **must** incorporate an email and mobile number for communication purposes. Issue a warning if these details are absent.\n",
    "2. The profile section **must** include the student's name, course name, school, and GitHub URL. If any of these components are absent, issue a warning.\n",
    "3. Students are expected to be enrolled in the **Higher Diploma in Cloud and Data Centre Administration** course in Hong Kong. Issue a warning if this information is absent or incorrect.\n",
    "4. Stay alert for any nonsensical content (excluding Irrelevant/non-IT working Experience) or spelling errors. Issue a warning and highlight the mistakes if any are found.\n",
    "5. The summary section should not contain any pronouns.\n",
    "6. Ensure the use of tenses is consistent throughout the resume.\n",
    "7. Based on the resume content, propose an appropriate job title for the student.\n",
    "8. Assign a \"Resume Rating\" on a scale from 1 to 10, where 10 represents an exceptional resume.\n",
    "9. If there are any warnings or missing information, the \"Resume Rating\" **must not** surpass 5.\n",
    "10. Adopt the perspective of an IT interviewer and provide a rationale for the \"Resume Rating\", linking it to the probability of landing a job.\n",
    "11. Based on the resume content, suggest the type of job the student is likely to secure, such as a Cloud Engineer, Data Centre Technician, or Network Engineer.\n",
    "\n",
    "\"\"\"\n",
    "\n",
    "# Function to encode an image file as a base64 string\n",
    "def encode_image(image_path):\n",
    "    with open(image_path, \"rb\") as image_file:\n",
    "        return base64.b64encode(image_file.read()).decode(\"utf-8\")\n",
    "\n",
    "# Function to create messages for the AI model\n",
    "def create_messages(base64_images):\n",
    "    return [\n",
    "        {\"role\": \"system\", \"content\": system_prompt},\n",
    "        {\"role\": \"user\", \"content\": [\n",
    "            {\"type\": \"text\", \"text\": \"Describe the images as an alternative text, provide feedback, warning if any and ratiing on the resume.\"},\n",
    "            *[\n",
    "                {\"type\": \"image_url\", \"image_url\": {\"url\": f\"data:image/png;base64,{img}\"}}\n",
    "                for img in base64_images\n",
    "            ]\n",
    "        ]}\n",
    "    ]"
   ]
  },
  {
   "cell_type": "code",
   "execution_count": 5,
   "metadata": {},
   "outputs": [],
   "source": [
    "import os\n",
    "from collections import defaultdict\n",
    "\n",
    "# Define the path to the \"data\" folder\n",
    "data_folder = \"data\"\n",
    "\n",
    "cv_images = []\n",
    "# Traverse through each subfolder inside the \"data\" folder\n",
    "for root, dirs, files in os.walk(data_folder):\n",
    "    # Iterate over each file in the current subfolder\n",
    "    for file in files:\n",
    "        # Check if the file has a PNG extension\n",
    "        if file.endswith(\".png\"):\n",
    "            # Print the file path\n",
    "            # print(os.path.join(root, file))\n",
    "            cv_images.append(os.path.join(root, file))\n",
    "\n",
    "# Group cv_images by folder\n",
    "cv_images_by_folder = defaultdict(list)\n",
    "for image_path in cv_images:\n",
    "    folder = os.path.dirname(image_path)\n",
    "    cv_images_by_folder[folder].append(image_path)       "
   ]
  },
  {
   "cell_type": "code",
   "execution_count": 6,
   "metadata": {},
   "outputs": [
    {
     "name": "stderr",
     "output_type": "stream",
     "text": [
      "Processing folders:   0%|          | 0/82 [00:00<?, ?it/s]"
     ]
    },
    {
     "name": "stderr",
     "output_type": "stream",
     "text": [
      "Processing folders: 100%|██████████| 82/82 [21:44<00:00, 15.91s/it]\n"
     ]
    }
   ],
   "source": [
    "from tqdm import tqdm\n",
    "import os\n",
    "\n",
    "# Sort the cv_images_by_folder dictionary by folder\n",
    "sorted_cv_images_by_folder = dict(sorted(cv_images_by_folder.items(), key=lambda x: x[0]))\n",
    "\n",
    "for folder, images in tqdm(sorted_cv_images_by_folder.items(), desc=\"Processing folders\"):\n",
    "    save_path = os.path.join(folder, 'chatgpt_result.md')\n",
    "    if os.path.exists(save_path):\n",
    "        continue             \n",
    "    # print(f\"Folder: {folder}\")\n",
    "    encode_images = [encode_image(image) for image in images]\n",
    "    messages = create_messages(encode_images)\n",
    "    ai_message = llm.invoke(messages)\n",
    "    # print(ai_message.content)\n",
    "    # Save ai_message.content to a file\n",
    "    with open(save_path, 'w') as file:\n",
    "        file.write(ai_message.content)\n",
    "\n"
   ]
  }
 ],
 "metadata": {
  "kernelspec": {
   "display_name": "Python 3",
   "language": "python",
   "name": "python3"
  },
  "language_info": {
   "codemirror_mode": {
    "name": "ipython",
    "version": 3
   },
   "file_extension": ".py",
   "mimetype": "text/x-python",
   "name": "python",
   "nbconvert_exporter": "python",
   "pygments_lexer": "ipython3",
   "version": "3.11.9"
  }
 },
 "nbformat": 4,
 "nbformat_minor": 2
}
